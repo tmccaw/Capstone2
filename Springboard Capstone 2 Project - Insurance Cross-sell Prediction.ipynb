{
 "cells": [
  {
   "cell_type": "markdown",
   "metadata": {},
   "source": [
    "# About the Data"
   ]
  },
  {
   "cell_type": "markdown",
   "metadata": {},
   "source": [
    "This dataset is originally from a Kaggle Machine Learning competition. In this project we will be analyzing this dataset to help the marketing and sales teams better understand the demographics of their customers and reduce operational costs with the help of a machine learning model. \n",
    "\n",
    "Link: https://www.kaggle.com/anmolkumar/health-insurance-cross-sell-prediction",
    "\n",
    "Link: https://www.kaggle.com/anmolkumar/health-insurance-cross-sell-prediction"
   ]
  },
  {
   "cell_type": "markdown",
   "metadata": {},
   "source": [
    "# Libraries Required"
   ]
  },
  {
   "cell_type": "code",
   "execution_count": 2,
   "metadata": {},
   "outputs": [],
   "source": [
    "import numpy as np\n",
    "import pandas as pd\n",
    "import seaborn as sns\n",
    "import matplotlib.pyplot as plt\n",
    "from sklearn import preprocessing\n",
    "from scipy import stats\n",
    "from statsmodels.formula.api import logit\n",
    "import statsmodels.api as sm\n",
    "\n",
    "# Algorithms\n",
    "from sklearn.linear_model import LogisticRegression\n",
    "from sklearn.ensemble import RandomForestClassifier\n",
    "from imblearn.over_sampling import SMOTE\n",
    "from imblearn.pipeline import Pipeline\n",
    "\n",
    "\n",
    "# Import train_test_spilt\n",
    "from sklearn.model_selection import train_test_split\n",
    "from sklearn import metrics\n",
    "from sklearn.metrics import classification_report\n",
    "from sklearn.metrics import roc_auc_score\n",
    "\n",
    "#Import GridSearchCV\n",
    "from sklearn.model_selection import GridSearchCV"
   ]
  },
  {
   "cell_type": "code",
   "execution_count": 3,
   "metadata": {},
   "outputs": [],
   "source": [
    "# Import warnings# Import warnings\n",
    "import warnings\n",
    "warnings.filterwarnings('ignore')"
   ]
  },
  {
   "cell_type": "code",
   "execution_count": 4,
   "metadata": {},
   "outputs": [
    {
     "name": "stdout",
     "output_type": "stream",
     "text": [
      "Requirement already satisfied: scikit-plot in c:\\users\\photo\\anaconda3\\lib\\site-packages (0.3.7)\n",
      "Requirement already satisfied: scipy>=0.9 in c:\\users\\photo\\anaconda3\\lib\\site-packages (from scikit-plot) (1.4.1)\n",
      "Requirement already satisfied: matplotlib>=1.4.0 in c:\\users\\photo\\appdata\\roaming\\python\\python37\\site-packages (from scikit-plot) (3.3.3)\n",
      "Requirement already satisfied: scikit-learn>=0.18 in c:\\users\\photo\\anaconda3\\lib\\site-packages (from scikit-plot) (0.23.2)\n",
      "Requirement already satisfied: joblib>=0.10 in c:\\users\\photo\\anaconda3\\lib\\site-packages (from scikit-plot) (0.14.1)\n",
      "Requirement already satisfied: numpy>=1.13.3 in c:\\users\\photo\\anaconda3\\lib\\site-packages (from scipy>=0.9->scikit-plot) (1.18.1)\n",
      "Requirement already satisfied: cycler>=0.10 in c:\\users\\photo\\anaconda3\\lib\\site-packages (from matplotlib>=1.4.0->scikit-plot) (0.10.0)\n",
      "Requirement already satisfied: kiwisolver>=1.0.1 in c:\\users\\photo\\anaconda3\\lib\\site-packages (from matplotlib>=1.4.0->scikit-plot) (1.1.0)\n",
      "Requirement already satisfied: pyparsing!=2.0.4,!=2.1.2,!=2.1.6,>=2.0.3 in c:\\users\\photo\\anaconda3\\lib\\site-packages (from matplotlib>=1.4.0->scikit-plot) (2.4.6)\n",
      "Requirement already satisfied: python-dateutil>=2.1 in c:\\users\\photo\\anaconda3\\lib\\site-packages (from matplotlib>=1.4.0->scikit-plot) (2.8.1)\n",
      "Requirement already satisfied: pillow>=6.2.0 in c:\\users\\photo\\anaconda3\\lib\\site-packages (from matplotlib>=1.4.0->scikit-plot) (7.0.0)\n",
      "Requirement already satisfied: threadpoolctl>=2.0.0 in c:\\users\\photo\\anaconda3\\lib\\site-packages (from scikit-learn>=0.18->scikit-plot) (2.1.0)\n",
      "Requirement already satisfied: six in c:\\users\\photo\\anaconda3\\lib\\site-packages (from cycler>=0.10->matplotlib>=1.4.0->scikit-plot) (1.14.0)\n",
      "Requirement already satisfied: setuptools in c:\\users\\photo\\anaconda3\\lib\\site-packages (from kiwisolver>=1.0.1->matplotlib>=1.4.0->scikit-plot) (45.2.0.post20200210)\n"
     ]
    }
   ],
   "source": [
    "# Import the scikitplot module\n",
    "!pip install scikit-plot\n",
    "import scikitplot as skplt"
   ]
  },
  {
   "cell_type": "code",
   "execution_count": 5,
   "metadata": {},
   "outputs": [
    {
     "name": "stdout",
     "output_type": "stream",
     "text": [
      "Requirement already satisfied: researchpy in c:\\users\\photo\\anaconda3\\lib\\site-packages (0.2.3)\n",
      "Requirement already satisfied: statsmodels in c:\\users\\photo\\anaconda3\\lib\\site-packages (from researchpy) (0.11.0)\n",
      "Requirement already satisfied: numpy in c:\\users\\photo\\anaconda3\\lib\\site-packages (from researchpy) (1.18.1)\n",
      "Requirement already satisfied: pandas in c:\\users\\photo\\anaconda3\\lib\\site-packages (from researchpy) (1.0.1)\n",
      "Requirement already satisfied: scipy in c:\\users\\photo\\anaconda3\\lib\\site-packages (from researchpy) (1.4.1)\n",
      "Requirement already satisfied: patsy>=0.5 in c:\\users\\photo\\anaconda3\\lib\\site-packages (from statsmodels->researchpy) (0.5.1)\n",
      "Requirement already satisfied: python-dateutil>=2.6.1 in c:\\users\\photo\\anaconda3\\lib\\site-packages (from pandas->researchpy) (2.8.1)\n",
      "Requirement already satisfied: pytz>=2017.2 in c:\\users\\photo\\anaconda3\\lib\\site-packages (from pandas->researchpy) (2019.3)\n",
      "Requirement already satisfied: six in c:\\users\\photo\\anaconda3\\lib\\site-packages (from patsy>=0.5->statsmodels->researchpy) (1.14.0)\n",
      "Note: you may need to restart the kernel to use updated packages.\n"
     ]
    }
   ],
   "source": [
    "pip install researchpy"
   ]
  },
  {
   "cell_type": "code",
   "execution_count": 6,
   "metadata": {},
   "outputs": [],
   "source": [
    "import researchpy"
   ]
  },
  {
   "cell_type": "markdown",
   "metadata": {},
   "source": [
    "# Import Dataset"
   ]
  },
  {
   "cell_type": "code",
   "execution_count": 7,
   "metadata": {},
   "outputs": [],
   "source": [
    "# Import the dataset using pd.read_excel\n",
    "data = pd.read_excel(r'C:\\Users\\photo\\Desktop\\Springboard Project Data\\Capstone_2\\train.xlsx')"
   ]
  },
  {
   "cell_type": "code",
   "execution_count": 8,
   "metadata": {},
   "outputs": [],
   "source": [
    "# Create the pandas DataFrame\n",
    "df = pd.DataFrame(data)"
   ]
  },
  {
   "cell_type": "code",
   "execution_count": 9,
   "metadata": {},
   "outputs": [],
   "source": [
    "# Set the index of the DataFrame to 'id'\n",
    "df = df.set_index('id')"
   ]
  },
  {
   "cell_type": "code",
   "execution_count": 10,
   "metadata": {},
   "outputs": [
    {
     "data": {
      "text/plain": [
       "(381109, 11)"
      ]
     },
     "execution_count": 10,
     "metadata": {},
     "output_type": "execute_result"
    }
   ],
   "source": [
    "# Check the number of rows and columns\n",
    "df.shape"
   ]
  },
  {
   "cell_type": "code",
   "execution_count": 11,
   "metadata": {
    "scrolled": true
   },
   "outputs": [
    {
     "data": {
      "text/html": [
       "<div>\n",
       "<style scoped>\n",
       "    .dataframe tbody tr th:only-of-type {\n",
       "        vertical-align: middle;\n",
       "    }\n",
       "\n",
       "    .dataframe tbody tr th {\n",
       "        vertical-align: top;\n",
       "    }\n",
       "\n",
       "    .dataframe thead th {\n",
       "        text-align: right;\n",
       "    }\n",
       "</style>\n",
       "<table border=\"1\" class=\"dataframe\">\n",
       "  <thead>\n",
       "    <tr style=\"text-align: right;\">\n",
       "      <th></th>\n",
       "      <th>Gender</th>\n",
       "      <th>Age</th>\n",
       "      <th>Driving_License</th>\n",
       "      <th>Region_Code</th>\n",
       "      <th>Previously_Insured</th>\n",
       "      <th>Vehicle_Age</th>\n",
       "      <th>Vehicle_Damage</th>\n",
       "      <th>Annual_Premium</th>\n",
       "      <th>Policy_Sales_Channel</th>\n",
       "      <th>Vintage</th>\n",
       "      <th>Response</th>\n",
       "    </tr>\n",
       "    <tr>\n",
       "      <th>id</th>\n",
       "      <th></th>\n",
       "      <th></th>\n",
       "      <th></th>\n",
       "      <th></th>\n",
       "      <th></th>\n",
       "      <th></th>\n",
       "      <th></th>\n",
       "      <th></th>\n",
       "      <th></th>\n",
       "      <th></th>\n",
       "      <th></th>\n",
       "    </tr>\n",
       "  </thead>\n",
       "  <tbody>\n",
       "    <tr>\n",
       "      <th>1</th>\n",
       "      <td>Male</td>\n",
       "      <td>44</td>\n",
       "      <td>1</td>\n",
       "      <td>28</td>\n",
       "      <td>0</td>\n",
       "      <td>&gt; 2 Years</td>\n",
       "      <td>Yes</td>\n",
       "      <td>40454</td>\n",
       "      <td>26</td>\n",
       "      <td>217</td>\n",
       "      <td>1</td>\n",
       "    </tr>\n",
       "    <tr>\n",
       "      <th>2</th>\n",
       "      <td>Male</td>\n",
       "      <td>76</td>\n",
       "      <td>1</td>\n",
       "      <td>3</td>\n",
       "      <td>0</td>\n",
       "      <td>1-2 Year</td>\n",
       "      <td>No</td>\n",
       "      <td>33536</td>\n",
       "      <td>26</td>\n",
       "      <td>183</td>\n",
       "      <td>0</td>\n",
       "    </tr>\n",
       "    <tr>\n",
       "      <th>3</th>\n",
       "      <td>Male</td>\n",
       "      <td>47</td>\n",
       "      <td>1</td>\n",
       "      <td>28</td>\n",
       "      <td>0</td>\n",
       "      <td>&gt; 2 Years</td>\n",
       "      <td>Yes</td>\n",
       "      <td>38294</td>\n",
       "      <td>26</td>\n",
       "      <td>27</td>\n",
       "      <td>1</td>\n",
       "    </tr>\n",
       "    <tr>\n",
       "      <th>4</th>\n",
       "      <td>Male</td>\n",
       "      <td>21</td>\n",
       "      <td>1</td>\n",
       "      <td>11</td>\n",
       "      <td>1</td>\n",
       "      <td>&lt; 1 Year</td>\n",
       "      <td>No</td>\n",
       "      <td>28619</td>\n",
       "      <td>152</td>\n",
       "      <td>203</td>\n",
       "      <td>0</td>\n",
       "    </tr>\n",
       "    <tr>\n",
       "      <th>5</th>\n",
       "      <td>Female</td>\n",
       "      <td>29</td>\n",
       "      <td>1</td>\n",
       "      <td>41</td>\n",
       "      <td>1</td>\n",
       "      <td>&lt; 1 Year</td>\n",
       "      <td>No</td>\n",
       "      <td>27496</td>\n",
       "      <td>152</td>\n",
       "      <td>39</td>\n",
       "      <td>0</td>\n",
       "    </tr>\n",
       "  </tbody>\n",
       "</table>\n",
       "</div>"
      ],
      "text/plain": [
       "    Gender  Age  Driving_License  Region_Code  Previously_Insured Vehicle_Age  \\\n",
       "id                                                                              \n",
       "1     Male   44                1           28                   0   > 2 Years   \n",
       "2     Male   76                1            3                   0    1-2 Year   \n",
       "3     Male   47                1           28                   0   > 2 Years   \n",
       "4     Male   21                1           11                   1    < 1 Year   \n",
       "5   Female   29                1           41                   1    < 1 Year   \n",
       "\n",
       "   Vehicle_Damage  Annual_Premium  Policy_Sales_Channel  Vintage  Response  \n",
       "id                                                                          \n",
       "1             Yes           40454                    26      217         1  \n",
       "2              No           33536                    26      183         0  \n",
       "3             Yes           38294                    26       27         1  \n",
       "4              No           28619                   152      203         0  \n",
       "5              No           27496                   152       39         0  "
      ]
     },
     "execution_count": 11,
     "metadata": {},
     "output_type": "execute_result"
    }
   ],
   "source": [
    "# Look at the first 5 rows of data\n",
    "df.head()"
   ]
  },
  {
   "cell_type": "code",
   "execution_count": 12,
   "metadata": {},
   "outputs": [
    {
     "data": {
      "text/plain": [
       "Gender                      2\n",
       "Age                        66\n",
       "Driving_License             2\n",
       "Region_Code                53\n",
       "Previously_Insured          2\n",
       "Vehicle_Age                 3\n",
       "Vehicle_Damage              2\n",
       "Annual_Premium          48838\n",
       "Policy_Sales_Channel      155\n",
       "Vintage                   290\n",
       "Response                    2\n",
       "dtype: int64"
      ]
     },
     "execution_count": 12,
     "metadata": {},
     "output_type": "execute_result"
    }
   ],
   "source": [
    "# Check the number of unique values of each column\n",
    "df.nunique()"
   ]
  },
  {
   "cell_type": "code",
   "execution_count": 13,
   "metadata": {},
   "outputs": [
    {
     "name": "stdout",
     "output_type": "stream",
     "text": [
      "<class 'pandas.core.frame.DataFrame'>\n",
      "Int64Index: 381109 entries, 1 to 381109\n",
      "Data columns (total 11 columns):\n",
      " #   Column                Non-Null Count   Dtype \n",
      "---  ------                --------------   ----- \n",
      " 0   Gender                381109 non-null  object\n",
      " 1   Age                   381109 non-null  int64 \n",
      " 2   Driving_License       381109 non-null  int64 \n",
      " 3   Region_Code           381109 non-null  int64 \n",
      " 4   Previously_Insured    381109 non-null  int64 \n",
      " 5   Vehicle_Age           381109 non-null  object\n",
      " 6   Vehicle_Damage        381109 non-null  object\n",
      " 7   Annual_Premium        381109 non-null  int64 \n",
      " 8   Policy_Sales_Channel  381109 non-null  int64 \n",
      " 9   Vintage               381109 non-null  int64 \n",
      " 10  Response              381109 non-null  int64 \n",
      "dtypes: int64(8), object(3)\n",
      "memory usage: 34.9+ MB\n"
     ]
    }
   ],
   "source": [
    "df.info()"
   ]
  },
  {
   "cell_type": "code",
   "execution_count": 14,
   "metadata": {},
   "outputs": [
    {
     "data": {
      "text/html": [
       "<div>\n",
       "<style scoped>\n",
       "    .dataframe tbody tr th:only-of-type {\n",
       "        vertical-align: middle;\n",
       "    }\n",
       "\n",
       "    .dataframe tbody tr th {\n",
       "        vertical-align: top;\n",
       "    }\n",
       "\n",
       "    .dataframe thead th {\n",
       "        text-align: right;\n",
       "    }\n",
       "</style>\n",
       "<table border=\"1\" class=\"dataframe\">\n",
       "  <thead>\n",
       "    <tr style=\"text-align: right;\">\n",
       "      <th></th>\n",
       "      <th>Age</th>\n",
       "      <th>Annual_Premium</th>\n",
       "      <th>Vintage</th>\n",
       "    </tr>\n",
       "  </thead>\n",
       "  <tbody>\n",
       "    <tr>\n",
       "      <th>count</th>\n",
       "      <td>381109.000000</td>\n",
       "      <td>381109.000000</td>\n",
       "      <td>381109.000000</td>\n",
       "    </tr>\n",
       "    <tr>\n",
       "      <th>mean</th>\n",
       "      <td>38.822584</td>\n",
       "      <td>30564.389581</td>\n",
       "      <td>154.347397</td>\n",
       "    </tr>\n",
       "    <tr>\n",
       "      <th>std</th>\n",
       "      <td>15.511611</td>\n",
       "      <td>17213.155057</td>\n",
       "      <td>83.671304</td>\n",
       "    </tr>\n",
       "    <tr>\n",
       "      <th>min</th>\n",
       "      <td>20.000000</td>\n",
       "      <td>2630.000000</td>\n",
       "      <td>10.000000</td>\n",
       "    </tr>\n",
       "    <tr>\n",
       "      <th>25%</th>\n",
       "      <td>25.000000</td>\n",
       "      <td>24405.000000</td>\n",
       "      <td>82.000000</td>\n",
       "    </tr>\n",
       "    <tr>\n",
       "      <th>50%</th>\n",
       "      <td>36.000000</td>\n",
       "      <td>31669.000000</td>\n",
       "      <td>154.000000</td>\n",
       "    </tr>\n",
       "    <tr>\n",
       "      <th>75%</th>\n",
       "      <td>49.000000</td>\n",
       "      <td>39400.000000</td>\n",
       "      <td>227.000000</td>\n",
       "    </tr>\n",
       "    <tr>\n",
       "      <th>max</th>\n",
       "      <td>85.000000</td>\n",
       "      <td>540165.000000</td>\n",
       "      <td>299.000000</td>\n",
       "    </tr>\n",
       "  </tbody>\n",
       "</table>\n",
       "</div>"
      ],
      "text/plain": [
       "                 Age  Annual_Premium        Vintage\n",
       "count  381109.000000   381109.000000  381109.000000\n",
       "mean       38.822584    30564.389581     154.347397\n",
       "std        15.511611    17213.155057      83.671304\n",
       "min        20.000000     2630.000000      10.000000\n",
       "25%        25.000000    24405.000000      82.000000\n",
       "50%        36.000000    31669.000000     154.000000\n",
       "75%        49.000000    39400.000000     227.000000\n",
       "max        85.000000   540165.000000     299.000000"
      ]
     },
     "execution_count": 14,
     "metadata": {},
     "output_type": "execute_result"
    }
   ],
   "source": [
    "# Measures of spread for numerical features\n",
    "df[['Age', 'Annual_Premium', 'Vintage']].describe()"
   ]
  },
  {
   "cell_type": "markdown",
   "metadata": {},
   "source": [
    "Description of Variables:\n",
    "- id - unique ID for the customer this was set to the index\n",
    "- Gender (Categorical/Dichotomous) - Gender of customer (Male or Female)\n",
    "- Driving_License (Categorical/Dichotomous) - 0 : Customer does not have DL, 1 : Customer does have DL\n",
    "- Previously Insured (Categorical/Dichotomous) - 1: Customer already has Vehicle Insurance, 0 : Customer doesn't have Vehicle Insurance\n",
    "- Vehicle_Damage (Categorical/Dichotomous) - 1 : Customer got his/her vehicle damaged in the past. 0 : Customer didn't get his/her vehicle damaged in the past\n",
    "- Vehicle_Age (Categorical/ Ordinal) - Age of Vehicle\n",
    "- Region_Code (Categorical/Nominal) - Unique code for the region of the customer\n",
    "- Policy Sales Channel (Categorical/Nominal) - Anonymized Code for the channel of outreaching to the customer ie. Different Agents, Over Mail, Over Phone, In Person, etc.\n",
    "- Age (Continuous/Interval) - Age of the customer\n",
    "- Annual_Premium (Continuous/Ratio) The amount customer needs to pay as premium in the year (Indian Rupees)\n",
    "- Vintage (Continuous/Interval) - Number of Days, Customer has been associated with the company\n",
    "- Response (The target) - 1 : Customer is interested, 0 : Customer is not interested"
   ]
  },
  {
   "cell_type": "markdown",
   "metadata": {},
   "source": [
    "# Data Cleaning "
   ]
  },
  {
   "cell_type": "markdown",
   "metadata": {},
   "source": [
    "This dataset does not require cleaning as it is not missing any values. Later on we will assign numerical values to some of the categorical data and adjust the Annual Premium feature to reduce the effects of the outliers."
   ]
  },
  {
   "cell_type": "code",
   "execution_count": 15,
   "metadata": {},
   "outputs": [
    {
     "data": {
      "text/plain": [
       "Gender                  0\n",
       "Age                     0\n",
       "Driving_License         0\n",
       "Region_Code             0\n",
       "Previously_Insured      0\n",
       "Vehicle_Age             0\n",
       "Vehicle_Damage          0\n",
       "Annual_Premium          0\n",
       "Policy_Sales_Channel    0\n",
       "Vintage                 0\n",
       "Response                0\n",
       "dtype: int64"
      ]
     },
     "execution_count": 15,
     "metadata": {},
     "output_type": "execute_result"
    }
   ],
   "source": [
    "#Check for null values\n",
    "df.isnull().sum()"
   ]
  },
  {
   "cell_type": "markdown",
   "metadata": {},
   "source": [
    "# Explore the Dataset"
   ]
  },
  {
   "cell_type": "markdown",
   "metadata": {},
   "source": [
    "### Categorical Variables - Gender, Driving License, Previously Insured, Vehicle Damage, Vehicle Age, Region Code, Policy Sales Channel, and Response"
   ]
  },
  {
   "cell_type": "code",
   "execution_count": 16,
   "metadata": {},
   "outputs": [
    {
     "data": {
      "text/html": [
       "<div>\n",
       "<style scoped>\n",
       "    .dataframe tbody tr th:only-of-type {\n",
       "        vertical-align: middle;\n",
       "    }\n",
       "\n",
       "    .dataframe tbody tr th {\n",
       "        vertical-align: top;\n",
       "    }\n",
       "\n",
       "    .dataframe thead th {\n",
       "        text-align: right;\n",
       "    }\n",
       "</style>\n",
       "<table border=\"1\" class=\"dataframe\">\n",
       "  <thead>\n",
       "    <tr style=\"text-align: right;\">\n",
       "      <th></th>\n",
       "      <th>Gender</th>\n",
       "      <th>Driving_License</th>\n",
       "      <th>Region_Code</th>\n",
       "      <th>Previously_Insured</th>\n",
       "      <th>Vehicle_Age</th>\n",
       "      <th>Vehicle_Damage</th>\n",
       "      <th>Policy_Sales_Channel</th>\n",
       "      <th>Response</th>\n",
       "    </tr>\n",
       "    <tr>\n",
       "      <th>id</th>\n",
       "      <th></th>\n",
       "      <th></th>\n",
       "      <th></th>\n",
       "      <th></th>\n",
       "      <th></th>\n",
       "      <th></th>\n",
       "      <th></th>\n",
       "      <th></th>\n",
       "    </tr>\n",
       "  </thead>\n",
       "  <tbody>\n",
       "    <tr>\n",
       "      <th>1</th>\n",
       "      <td>Male</td>\n",
       "      <td>1</td>\n",
       "      <td>28</td>\n",
       "      <td>0</td>\n",
       "      <td>&gt; 2 Years</td>\n",
       "      <td>Yes</td>\n",
       "      <td>26</td>\n",
       "      <td>1</td>\n",
       "    </tr>\n",
       "    <tr>\n",
       "      <th>2</th>\n",
       "      <td>Male</td>\n",
       "      <td>1</td>\n",
       "      <td>3</td>\n",
       "      <td>0</td>\n",
       "      <td>1-2 Year</td>\n",
       "      <td>No</td>\n",
       "      <td>26</td>\n",
       "      <td>0</td>\n",
       "    </tr>\n",
       "    <tr>\n",
       "      <th>3</th>\n",
       "      <td>Male</td>\n",
       "      <td>1</td>\n",
       "      <td>28</td>\n",
       "      <td>0</td>\n",
       "      <td>&gt; 2 Years</td>\n",
       "      <td>Yes</td>\n",
       "      <td>26</td>\n",
       "      <td>1</td>\n",
       "    </tr>\n",
       "    <tr>\n",
       "      <th>4</th>\n",
       "      <td>Male</td>\n",
       "      <td>1</td>\n",
       "      <td>11</td>\n",
       "      <td>1</td>\n",
       "      <td>&lt; 1 Year</td>\n",
       "      <td>No</td>\n",
       "      <td>152</td>\n",
       "      <td>0</td>\n",
       "    </tr>\n",
       "    <tr>\n",
       "      <th>5</th>\n",
       "      <td>Female</td>\n",
       "      <td>1</td>\n",
       "      <td>41</td>\n",
       "      <td>1</td>\n",
       "      <td>&lt; 1 Year</td>\n",
       "      <td>No</td>\n",
       "      <td>152</td>\n",
       "      <td>0</td>\n",
       "    </tr>\n",
       "  </tbody>\n",
       "</table>\n",
       "</div>"
      ],
      "text/plain": [
       "    Gender  Driving_License  Region_Code  Previously_Insured Vehicle_Age  \\\n",
       "id                                                                         \n",
       "1     Male                1           28                   0   > 2 Years   \n",
       "2     Male                1            3                   0    1-2 Year   \n",
       "3     Male                1           28                   0   > 2 Years   \n",
       "4     Male                1           11                   1    < 1 Year   \n",
       "5   Female                1           41                   1    < 1 Year   \n",
       "\n",
       "   Vehicle_Damage  Policy_Sales_Channel  Response  \n",
       "id                                                 \n",
       "1             Yes                    26         1  \n",
       "2              No                    26         0  \n",
       "3             Yes                    26         1  \n",
       "4              No                   152         0  \n",
       "5              No                   152         0  "
      ]
     },
     "execution_count": 16,
     "metadata": {},
     "output_type": "execute_result"
    }
   ],
   "source": [
    "# Subset of Dataframe with Categorical Variables\n",
    "df_cat = df.drop(['Age', 'Annual_Premium', 'Vintage'], axis = 1)\n",
    "\n",
    "df_cat.head()"
   ]
  },
  {
   "cell_type": "markdown",
   "metadata": {},
   "source": [
    "#### Countplots for Each Categorical wth 2 Categories"
   ]
  },
  {
   "cell_type": "code",
   "execution_count": 17,
   "metadata": {},
   "outputs": [],
   "source": [
    "# Add function to create countplots\n",
    "def com_countplot(data, a, w=10, h=5):\n",
    "    fig =plt.subplots(figsize=(w, h))\n",
    "    sns.countplot(x=a, data=data).set_title(a)\n",
    "    print('Value Counts: ')\n",
    "    print(data[a].value_counts())"
   ]
  },
  {
   "cell_type": "markdown",
   "metadata": {},
   "source": [
    "##### Gender"
   ]
  },
  {
   "cell_type": "markdown",
   "metadata": {},
   "source": [
    "There are slightly more males(54%) then females(46%) represented in the dataset."
   ]
  },
  {
   "cell_type": "code",
   "execution_count": 18,
   "metadata": {},
   "outputs": [
    {
     "name": "stdout",
     "output_type": "stream",
     "text": [
      "Value Counts: \n",
      "Male      206089\n",
      "Female    175020\n",
      "Name: Gender, dtype: int64\n"
     ]
    },
    {
     "data": {
      "image/png": "[encoded data removed]",
      "text/plain": [
       "<Figure size 720x360 with 1 Axes>"
      ]
     },
     "metadata": {
      "needs_background": "light"
     },
     "output_type": "display_data"
    }
   ],
   "source": [
    "com_countplot(df_cat, 'Gender')"
   ]
  },
  {
   "cell_type": "markdown",
   "metadata": {},
   "source": [
    "##### Driving License"
   ]
  },
  {
   "cell_type": "markdown",
   "metadata": {},
   "source": [
    "Most of the respondents in the dataset have a Drivers Licnese(99.7%)"
   ]
  },
  {
   "cell_type": "code",
   "execution_count": 19,
   "metadata": {},
   "outputs": [
    {
     "name": "stdout",
     "output_type": "stream",
     "text": [
      "Value Counts: \n",
      "1    380297\n",
      "0       812\n",
      "Name: Driving_License, dtype: int64\n"
     ]
    },
    {
     "data": {
      "image/png": "[encoded data removed]",
      "text/plain": [
       "<Figure size 720x360 with 1 Axes>"
      ]
     },
     "metadata": {
      "needs_background": "light"
     },
     "output_type": "display_data"
    }
   ],
   "source": [
    "com_countplot(df_cat, 'Driving_License')"
   ]
  },
  {
   "cell_type": "markdown",
   "metadata": {},
   "source": [
    "##### Previously_Insured"
   ]
  },
  {
   "cell_type": "markdown",
   "metadata": {},
   "source": [
    "There are more Previously uninsured(54%) then previously insured(46%) respondents."
   ]
  },
  {
   "cell_type": "code",
   "execution_count": 20,
   "metadata": {},
   "outputs": [
    {
     "name": "stdout",
     "output_type": "stream",
     "text": [
      "Value Counts: \n",
      "0    206481\n",
      "1    174628\n",
      "Name: Previously_Insured, dtype: int64\n"
     ]
    },
    {
     "data": {
      "image/png": "[encoded data removed]",
      "text/plain": [
       "<Figure size 720x360 with 1 Axes>"
      ]
     },
     "metadata": {
      "needs_background": "light"
     },
     "output_type": "display_data"
    }
   ],
   "source": [
    "com_countplot(df_cat, 'Previously_Insured')"
   ]
  },
  {
   "cell_type": "markdown",
   "metadata": {},
   "source": [
    "##### Vehicle_Damage"
   ]
  },
  {
   "cell_type": "markdown",
   "metadata": {},
   "source": [
    "Almost equal amounts of respondents said Yes(50.4%) and No(49.6%)"
   ]
  },
  {
   "cell_type": "code",
   "execution_count": 21,
   "metadata": {},
   "outputs": [
    {
     "name": "stdout",
     "output_type": "stream",
     "text": [
      "Value Counts: \n",
      "Yes    192413\n",
      "No     188696\n",
      "Name: Vehicle_Damage, dtype: int64\n"
     ]
    },
    {
     "data": {
      "image/png": "[encoded data removed]",
      "text/plain": [
       "<Figure size 720x360 with 1 Axes>"
      ]
     },
     "metadata": {
      "needs_background": "light"
     },
     "output_type": "display_data"
    }
   ],
   "source": [
    "com_countplot(df_cat, 'Vehicle_Damage')"
   ]
  },
  {
   "cell_type": "markdown",
   "metadata": {},
   "source": [
    "##### Response"
   ]
  },
  {
   "cell_type": "markdown",
   "metadata": {},
   "source": [
    "12% of respondents were interested in purchasing Vehicle Insurance from thier Health Insurance Company, while 88% were not. "
   ]
  },
  {
   "cell_type": "code",
   "execution_count": 22,
   "metadata": {},
   "outputs": [
    {
     "name": "stdout",
     "output_type": "stream",
     "text": [
      "Value Counts: \n",
      "0    334399\n",
      "1     46710\n",
      "Name: Response, dtype: int64\n"
     ]
    },
    {
     "data": {
      "image/png": "[encoded data removed]",
      "text/plain": [
       "<Figure size 720x360 with 1 Axes>"
      ]
     },
     "metadata": {
      "needs_background": "light"
     },
     "output_type": "display_data"
    }
   ],
   "source": [
    "com_countplot(df_cat, 'Response')"
   ]
  },
  {
   "cell_type": "markdown",
   "metadata": {},
   "source": [
    "#### Create Countplots for Variables with more then 2 Categories"
   ]
  },
  {
   "cell_type": "markdown",
   "metadata": {},
   "source": [
    "##### Vehicle Age"
   ]
  },
  {
   "cell_type": "markdown",
   "metadata": {},
   "source": [
    "52% respondents Vehicles were 1 - 2 years old, 43% were < 1 year, and 5% were > 2 years old."
   ]
  },
  {
   "cell_type": "code",
   "execution_count": 23,
   "metadata": {},
   "outputs": [
    {
     "name": "stdout",
     "output_type": "stream",
     "text": [
      "Value Counts: \n",
      "1-2 Year     200316\n",
      "< 1 Year     164786\n",
      "> 2 Years     16007\n",
      "Name: Vehicle_Age, dtype: int64\n"
     ]
    },
    {
     "data": {
      "image/png": "[encoded data removed]",
      "text/plain": [
       "<Figure size 720x360 with 1 Axes>"
      ]
     },
     "metadata": {
      "needs_background": "light"
     },
     "output_type": "display_data"
    }
   ],
   "source": [
    "com_countplot(df_cat, 'Vehicle_Age')"
   ]
  },
  {
   "cell_type": "markdown",
   "metadata": {},
   "source": [
    "##### Region_Code"
   ]
  },
  {
   "cell_type": "markdown",
   "metadata": {},
   "source": [
    "Clearly some regions (28) were able to have higher rates of participation then others. \n",
    "\n",
    "Note: To provide futher insight using the Region_Code feature we would need more information about the physical locations of these regions. "
   ]
  },
  {
   "cell_type": "code",
   "execution_count": 24,
   "metadata": {},
   "outputs": [
    {
     "name": "stdout",
     "output_type": "stream",
     "text": [
      "Value Counts: \n",
      "28    106415\n",
      "8      33877\n",
      "46     19749\n",
      "41     18263\n",
      "15     13308\n",
      "30     12191\n",
      "29     11065\n",
      "50     10243\n",
      "3       9251\n",
      "11      9232\n",
      "36      8797\n",
      "33      7654\n",
      "47      7436\n",
      "35      6942\n",
      "6       6280\n",
      "45      5605\n",
      "37      5501\n",
      "18      5153\n",
      "48      4681\n",
      "14      4678\n",
      "39      4644\n",
      "10      4374\n",
      "21      4266\n",
      "2       4038\n",
      "13      4036\n",
      "7       3279\n",
      "12      3198\n",
      "9       3101\n",
      "27      2823\n",
      "32      2787\n",
      "43      2639\n",
      "17      2617\n",
      "26      2587\n",
      "25      2503\n",
      "24      2415\n",
      "38      2026\n",
      "0       2021\n",
      "16      2007\n",
      "23      1960\n",
      "31      1960\n",
      "20      1935\n",
      "49      1832\n",
      "4       1801\n",
      "34      1664\n",
      "19      1535\n",
      "22      1309\n",
      "40      1295\n",
      "5       1279\n",
      "1       1008\n",
      "44       808\n",
      "42       591\n",
      "52       267\n",
      "51       183\n",
      "Name: Region_Code, dtype: int64\n"
     ]
    },
    {
     "data": {
      "image/png": "[encoded data removed]",
      "text/plain": [
       "<Figure size 1152x432 with 1 Axes>"
      ]
     },
     "metadata": {
      "needs_background": "light"
     },
     "output_type": "display_data"
    }
   ],
   "source": [
    "com_countplot(df_cat, 'Region_Code', w = 16, h = 6)"
   ]
  },
  {
   "cell_type": "markdown",
   "metadata": {},
   "source": [
    "##### Policy_Sales_Channel"
   ]
  },
  {
   "cell_type": "markdown",
   "metadata": {},
   "source": [
    "Like Region Code, Policy Sales Channel is a categorical variable with high cardinality. \n",
    "\n",
    "This feature is also hard to examine as each number represents 2 pieces of information: \n",
    "    1. The method of contact \n",
    "    2. The employee who made the contact. \n",
    "Another dataset that includes these details for each number would be helpful in determining information, such as the best method of contact."
   ]
  },
  {
   "cell_type": "code",
   "execution_count": 25,
   "metadata": {},
   "outputs": [
    {
     "data": {
      "image/png": "[encoded data removed]",
      "text/plain": [
       "<Figure size 1440x576 with 1 Axes>"
      ]
     },
     "metadata": {
      "needs_background": "light"
     },
     "output_type": "display_data"
    },
    {
     "name": "stdout",
     "output_type": "stream",
     "text": [
      "Value Counts: \n",
      "<bound method IndexOpsMixin.value_counts of id\n",
      "1          26\n",
      "2          26\n",
      "3          26\n",
      "4         152\n",
      "5         152\n",
      "         ... \n",
      "381105     26\n",
      "381106    152\n",
      "381107    160\n",
      "381108    124\n",
      "381109     26\n",
      "Name: Policy_Sales_Channel, Length: 381109, dtype: int64>\n"
     ]
    }
   ],
   "source": [
    "plt.figure(figsize=(20,8))\n",
    "ax = sns.countplot(x=\"Policy_Sales_Channel\",data=df_cat)\n",
    "plt.tight_layout()\n",
    "plt.show()\n",
    "\n",
    "print('Value Counts: ')\n",
    "print(df_cat['Policy_Sales_Channel'].value_counts)"
   ]
  },
  {
   "cell_type": "markdown",
   "metadata": {},
   "source": [
    "### Numerical Variables - Age, Annual Premium, and Vintage"
   ]
  },
  {
   "cell_type": "code",
   "execution_count": 26,
   "metadata": {},
   "outputs": [],
   "source": [
    "#Create subset of the DataFrame for the Numerical Variables\n",
    "df_num = df[['Age', 'Annual_Premium', 'Vintage']]"
   ]
  },
  {
   "cell_type": "code",
   "execution_count": 27,
   "metadata": {},
   "outputs": [],
   "source": [
    "# Add function to create boxplots with subplots\n",
    "def com_box_hist_plots(a, data, n_bin=10, w=10, h=6):\n",
    "    fig, ax =plt.subplots(2, 1,figsize=(w, h))\n",
    "    plt.subplots_adjust(wspace=0.5, hspace=0.5)\n",
    "    sns.boxplot(a, data=data, ax=ax[0]).set_title(a + ' Boxplot')\n",
    "    sns.distplot(data[a], hist=True, kde=False, bins=n_bin, ax=ax[1]).set_title(a + ' Histogram')\n",
    "    print(data[a].describe())"
   ]
  },
  {
   "cell_type": "markdown",
   "metadata": {},
   "source": [
    "##### Age"
   ]
  },
  {
   "cell_type": "markdown",
   "metadata": {},
   "source": [
    "Age as a range from 20 to 85 but is skewed to the right with a median at 36."
   ]
  },
  {
   "cell_type": "code",
   "execution_count": 28,
   "metadata": {},
   "outputs": [
    {
     "name": "stdout",
     "output_type": "stream",
     "text": [
      "count    381109.000000\n",
      "mean         38.822584\n",
      "std          15.511611\n",
      "min          20.000000\n",
      "25%          25.000000\n",
      "50%          36.000000\n",
      "75%          49.000000\n",
      "max          85.000000\n",
      "Name: Age, dtype: float64\n"
     ]
    },
    {
     "data": {
      "image/png": "[encoded data removed]",
      "text/plain": [
       "<Figure size 720x432 with 2 Axes>"
      ]
     },
     "metadata": {
      "needs_background": "light"
     },
     "output_type": "display_data"
    }
   ],
   "source": [
    "com_box_hist_plots('Age', df_num, n_bin=13)"
   ]
  },
  {
   "cell_type": "markdown",
   "metadata": {},
   "source": [
    "##### Annual Premium"
   ]
  },
  {
   "cell_type": "markdown",
   "metadata": {},
   "source": [
    "Annual Premium is also skewed to the right and has a lot of outliers. We will adjust for these outliers before feeding them into the machine learning model. \n",
    "\n",
    "Note: These premiums are in Indian Rupees."
   ]
  },
  {
   "cell_type": "code",
   "execution_count": 29,
   "metadata": {},
   "outputs": [
    {
     "name": "stdout",
     "output_type": "stream",
     "text": [
      "count    381109.000000\n",
      "mean      30564.389581\n",
      "std       17213.155057\n",
      "min        2630.000000\n",
      "25%       24405.000000\n",
      "50%       31669.000000\n",
      "75%       39400.000000\n",
      "max      540165.000000\n",
      "Name: Annual_Premium, dtype: float64\n"
     ]
    },
    {
     "data": {
      "image/png": "[encoded data removed]",
      "text/plain": [
       "<Figure size 720x432 with 2 Axes>"
      ]
     },
     "metadata": {
      "needs_background": "light"
     },
     "output_type": "display_data"
    }
   ],
   "source": [
    "com_box_hist_plots('Annual_Premium', df_num, n_bin=100)"
   ]
  },
  {
   "cell_type": "markdown",
   "metadata": {},
   "source": [
    "##### Vintage"
   ]
  },
  {
   "cell_type": "markdown",
   "metadata": {},
   "source": [
    "Vintage has a uniform distribution"
   ]
  },
  {
   "cell_type": "code",
   "execution_count": 30,
   "metadata": {},
   "outputs": [
    {
     "name": "stdout",
     "output_type": "stream",
     "text": [
      "count    381109.000000\n",
      "mean        154.347397\n",
      "std          83.671304\n",
      "min          10.000000\n",
      "25%          82.000000\n",
      "50%         154.000000\n",
      "75%         227.000000\n",
      "max         299.000000\n",
      "Name: Vintage, dtype: float64\n"
     ]
    },
    {
     "data": {
      "image/png": "[encoded data removed]",
      "text/plain": [
       "<Figure size 720x432 with 2 Axes>"
      ]
     },
     "metadata": {
      "needs_background": "light"
     },
     "output_type": "display_data"
    }
   ],
   "source": [
    "com_box_hist_plots('Vintage', df_num, n_bin=20)"
   ]
  },
  {
   "cell_type": "markdown",
   "metadata": {},
   "source": [
    "# Issue to Explore"
   ]
  },
  {
   "cell_type": "markdown",
   "metadata": {},
   "source": [
    "## What features contribute to a high postive Response Rate?"
   ]
  },
  {
   "cell_type": "markdown",
   "metadata": {},
   "source": [
    "### Comparing Categorical Variables with 2 Levels"
   ]
  },
  {
   "cell_type": "code",
   "execution_count": 31,
   "metadata": {},
   "outputs": [
    {
     "data": {
      "text/plain": [
       "Text(0.5, 1.0, 'Vehicle Damage by Response')"
      ]
     },
     "execution_count": 31,
     "metadata": {},
     "output_type": "execute_result"
    },
    {
     "data": {
      "image/png": "[encoded data removed]",
      "text/plain": [
       "<Figure size 864x864 with 4 Axes>"
      ]
     },
     "metadata": {
      "needs_background": "light"
     },
     "output_type": "display_data"
    }
   ],
   "source": [
    "fig_1, axes_1 = plt.subplots(2, 2, figsize=(12,12))\n",
    "sns.countplot(ax=axes_1[0, 0], data=df, hue='Gender', x='Response').set_title('Gender by Response')\n",
    "sns.countplot(ax=axes_1[1 , 0], data=df, hue='Driving_License', x='Response').set_title('Driving License by Response')\n",
    "sns.countplot(ax=axes_1[0, 1], data=df, hue='Previously_Insured', x='Response').set_title('Previously Insured by Response')\n",
    "sns.countplot(ax=axes_1[1 , 1], data=df, hue='Vehicle_Damage', x='Response').set_title('Vehicle Damage by Response')"
   ]
  },
  {
   "cell_type": "markdown",
   "metadata": {},
   "source": [
    "The above graphs are comparing the responses of those who said 'Yes'(1) to those who said 'No'(0) when asked if these would be interested in purchasing Vehicle Insurance for each of the cateogrical variables with just 2 responses either 'Yes' or 'No'.\n",
    "\n",
    "For Gender there does not appear to be a Gender that is more likely to say 'Yes' then 'No'. \n",
    "\n",
    "As we discovered earlier most customers who responded had a driver license. It appears that this does not have a major influence on whether or not someone is interested in Vehicle Insurance.\n",
    "\n",
    "Those who were not Previously Insured were more likely to be interested in Vehicle insurance. We will take a closer look at the relationship between annual premium, previously insured, and response next to see if our rates are competative.\n",
    "\n",
    "Lastly, those customers who do have previous damage to their vehicles are more interested then in purchasing insurance then those who do not. They might be unsatisified in with their current premiums and it is possible we are able to offer them something better. "
   ]
  },
  {
   "cell_type": "markdown",
   "metadata": {},
   "source": [
    "### Previously Insured, Annual_Premium, and Response"
   ]
  },
  {
   "cell_type": "code",
   "execution_count": 32,
   "metadata": {},
   "outputs": [
    {
     "data": {
      "image/png": "[encoded data removed]",
      "text/plain": [
       "<Figure size 415.75x360 with 1 Axes>"
      ]
     },
     "metadata": {
      "needs_background": "light"
     },
     "output_type": "display_data"
    }
   ],
   "source": [
    "sns.catplot(x='Previously_Insured', y='Annual_Premium', hue='Response', data=df, jitter=0.4)\n",
    "plt.title('Previously Insured by Annual Premium and Response')\n",
    "plt.show()"
   ]
  },
  {
   "cell_type": "code",
   "execution_count": 33,
   "metadata": {},
   "outputs": [
    {
     "name": "stdout",
     "output_type": "stream",
     "text": [
      "Previously_Insured       0       1\n",
      "Response                          \n",
      "0                   159929  174470\n",
      "1                    46552     158\n"
     ]
    }
   ],
   "source": [
    "counts = pd.crosstab(df['Response'], df['Previously_Insured'])\n",
    "print(counts)"
   ]
  },
  {
   "cell_type": "markdown",
   "metadata": {},
   "source": [
    "It does not look like the Annual Premium has a large effect on whether or not someone who was Previously Insured will be interested in purchasing Vehicle Insurance. Those who are interested and were previously insured making up less then 0.5% of the total population. \n",
    "\n",
    "To improve revenue the company has a couple options. They could either look for ways to attract customers who are already insured or increase the number contacts to custmers who were not Previously Insured."
   ]
  },
  {
   "cell_type": "markdown",
   "metadata": {},
   "source": [
    "### Response and Vehicle Age by Vehicle Damage"
   ]
  },
  {
   "cell_type": "code",
   "execution_count": 34,
   "metadata": {},
   "outputs": [
    {
     "data": {
      "text/plain": [
       "Text(0.5, 1.0, 'Point Plot of Vehicle Age Compared to Response ')"
      ]
     },
     "execution_count": 34,
     "metadata": {},
     "output_type": "execute_result"
    },
    {
     "data": {
      "image/png": "[encoded data removed]",
      "text/plain": [
       "<Figure size 432x288 with 1 Axes>"
      ]
     },
     "metadata": {
      "needs_background": "light"
     },
     "output_type": "display_data"
    }
   ],
   "source": [
    "sns.pointplot(x='Vehicle_Age', y='Response', hue='Vehicle_Damage', data=df)\n",
    "plt.title('Point Plot of Vehicle Age Compared to Response ')"
   ]
  },
  {
   "cell_type": "markdown",
   "metadata": {},
   "source": [
    "Customers who previously had damage to their Vehicles are more likely to respond 'Yes' when asked if they would be interested in purchasing Vehicle Insurance. Of those who said yes, people with older cars seem more likely to be interested in purchasing Vehicle Insurance.\n",
    "\n",
    "Customers without previous damage to their Vehicles are less interested in purchasing insurance. The age of their car does not seem to have a great affect on response either.\n",
    "\n",
    "While the company can take advantge of focusing on those customer who have previously damaged their cars, it would also be prudent to find out how they can create more interest across all customer who do not have damage previous damage to their vehicles."
   ]
  },
  {
   "cell_type": "markdown",
   "metadata": {},
   "source": [
    "### Comparing Age, Gender, and Response"
   ]
  },
  {
   "cell_type": "code",
   "execution_count": 35,
   "metadata": {},
   "outputs": [
    {
     "data": {
      "image/png": "[encoded data removed]",
      "text/plain": [
       "<Figure size 720x288 with 2 Axes>"
      ]
     },
     "metadata": {
      "needs_background": "light"
     },
     "output_type": "display_data"
    }
   ],
   "source": [
    "Response_Y = 'Yes'\n",
    "Response_N = 'No'\n",
    "fig, axes = plt.subplots(nrows=1, ncols=2,figsize=(10, 4), sharey=True)\n",
    "women = df[df['Gender']=='Female']\n",
    "men = df[df['Gender']=='Male']\n",
    "ax = sns.distplot(women[women['Response']==1].Age.dropna(), bins=13, label = Response_Y, ax = axes[0], kde =False)\n",
    "ax = sns.distplot(women[women['Response']==0].Age.dropna(), bins=13, label = Response_N, ax = axes[0], kde =False)\n",
    "ax.legend()\n",
    "ax.set_title('Female')\n",
    "ax = sns.distplot(men[men['Response']==1].Age.dropna(), bins=13, label = Response_Y, ax = axes[1], kde = False)\n",
    "ax = sns.distplot(men[men['Response']==0].Age.dropna(), bins=13, label = Response_N, ax = axes[1], kde = False)\n",
    "ax.legend()\n",
    "_ = ax.set_title('Male')\n",
    "plt.tight_layout()"
   ]
  },
  {
   "cell_type": "markdown",
   "metadata": {},
   "source": [
    "Both Males and Females who responded 'No' when asked if they would be interested in purchasing Vehcile Insurance are skewed to the right as we saw earlier in our data exploration. \n",
    "\n",
    "For Males and Females who responded 'Yes' there is a normal distribution of the data centered around ages 40 to 50. This range could be a good place to start when looking for a target audience. "
   ]
  },
  {
   "cell_type": "markdown",
   "metadata": {},
   "source": [
    "### Vintage Boxplots by Response"
   ]
  },
  {
   "cell_type": "code",
   "execution_count": 36,
   "metadata": {},
   "outputs": [
    {
     "data": {
      "text/plain": [
       "<AxesSubplot:xlabel='Response', ylabel='Vintage'>"
      ]
     },
     "execution_count": 36,
     "metadata": {},
     "output_type": "execute_result"
    },
    {
     "data": {
      "image/png": "[encoded data removed]",
      "text/plain": [
       "<Figure size 432x288 with 1 Axes>"
      ]
     },
     "metadata": {
      "needs_background": "light"
     },
     "output_type": "display_data"
    }
   ],
   "source": [
    "sns.boxplot(x='Response', y='Vintage', data=df)"
   ]
  },
  {
   "cell_type": "markdown",
   "metadata": {},
   "source": [
    "There does not appear to be a major difference in the measures of spread for Vintage between those customers who were interested in purchasing Vehicle Insurance and those who were not. We would like to see that customer loyalty has been cultivated by increasing that number of customers who have been with us longer to be more interested in also purchasing their Vehicle Insurance from. "
   ]
  },
  {
   "cell_type": "markdown",
   "metadata": {},
   "source": [
    "## Machine Learning Models"
   ]
  },
  {
   "cell_type": "markdown",
   "metadata": {},
   "source": [
    "### Transform Data for Models"
   ]
  },
  {
   "cell_type": "markdown",
   "metadata": {},
   "source": [
    "Assign numerical values are assigned to the categorical variables so the machine learning algorithums can process them.  "
   ]
  },
  {
   "cell_type": "code",
   "execution_count": 107,
   "metadata": {},
   "outputs": [],
   "source": [
    "df_model = df.copy()"
   ]
  },
  {
   "cell_type": "code",
   "execution_count": 108,
   "metadata": {},
   "outputs": [],
   "source": [
    "# Convert Gender, Vehicle_Damage, and Vehicle Age\n",
    "cat_values = {'Gender' : {'Male': 0, 'Female' : 1},\n",
    "              'Vehicle_Damage' : {'No' : 0, 'Yes' : 1},\n",
    "              'Vehicle_Age' : {'< 1 Year' :  1, '1-2 Year' : 2, '> 2 Years' : 3}}\n",
    "\n",
    "# Make a new Dataset with the new alises for the categorical variables\n",
    "df_model = df_model.replace(cat_values)"
   ]
  },
  {
   "cell_type": "code",
   "execution_count": 109,
   "metadata": {},
   "outputs": [
    {
     "data": {
      "text/plain": [
       "<bound method NDFrame.describe of id\n",
       "1         40454\n",
       "2         33536\n",
       "3         38294\n",
       "4         28619\n",
       "5         27496\n",
       "          ...  \n",
       "381105    30170\n",
       "381106    40016\n",
       "381107    35118\n",
       "381108    44617\n",
       "381109    41777\n",
       "Name: Annual_Premium, Length: 381109, dtype: int64>"
      ]
     },
     "execution_count": 109,
     "metadata": {},
     "output_type": "execute_result"
    }
   ],
   "source": [
    "df_model.Annual_Premium.describe"
   ]
  },
  {
   "cell_type": "markdown",
   "metadata": {},
   "source": [
    "To reduce the effects of the outliers in Annual Premium when building our models we are going to use the qcut() method to separate them into 4 equally sized bins."
   ]
  },
  {
   "cell_type": "code",
   "execution_count": 110,
   "metadata": {},
   "outputs": [
    {
     "name": "stdout",
     "output_type": "stream",
     "text": [
      "[  2630.   21583.6  29082.   34406.   41711.  540165. ]\n"
     ]
    }
   ],
   "source": [
    "#Adjust the dataset by dividing Annual Premium into buckets\n",
    "df_model['Annual_Premium'], bins = pd.qcut(df_model['Annual_Premium'], q=5, retbins=True, labels=False)\n",
    "\n",
    "print(bins)"
   ]
  },
  {
   "cell_type": "code",
   "execution_count": 177,
   "metadata": {},
   "outputs": [
    {
     "data": {
      "text/plain": [
       "array([3, 2, 1, 0, 4], dtype=int64)"
      ]
     },
     "execution_count": 177,
     "metadata": {},
     "output_type": "execute_result"
    }
   ],
   "source": [
    "df_model.Annual_Premium.unique()"
   ]
  },
  {
   "cell_type": "code",
   "execution_count": 111,
   "metadata": {},
   "outputs": [
    {
     "data": {
      "text/html": [
       "<div>\n",
       "<style scoped>\n",
       "    .dataframe tbody tr th:only-of-type {\n",
       "        vertical-align: middle;\n",
       "    }\n",
       "\n",
       "    .dataframe tbody tr th {\n",
       "        vertical-align: top;\n",
       "    }\n",
       "\n",
       "    .dataframe thead th {\n",
       "        text-align: right;\n",
       "    }\n",
       "</style>\n",
       "<table border=\"1\" class=\"dataframe\">\n",
       "  <thead>\n",
       "    <tr style=\"text-align: right;\">\n",
       "      <th></th>\n",
       "      <th>Gender</th>\n",
       "      <th>Age</th>\n",
       "      <th>Driving_License</th>\n",
       "      <th>Region_Code</th>\n",
       "      <th>Previously_Insured</th>\n",
       "      <th>Vehicle_Age</th>\n",
       "      <th>Vehicle_Damage</th>\n",
       "      <th>Annual_Premium</th>\n",
       "      <th>Policy_Sales_Channel</th>\n",
       "      <th>Vintage</th>\n",
       "      <th>Response</th>\n",
       "    </tr>\n",
       "    <tr>\n",
       "      <th>id</th>\n",
       "      <th></th>\n",
       "      <th></th>\n",
       "      <th></th>\n",
       "      <th></th>\n",
       "      <th></th>\n",
       "      <th></th>\n",
       "      <th></th>\n",
       "      <th></th>\n",
       "      <th></th>\n",
       "      <th></th>\n",
       "      <th></th>\n",
       "    </tr>\n",
       "  </thead>\n",
       "  <tbody>\n",
       "    <tr>\n",
       "      <th>1</th>\n",
       "      <td>0</td>\n",
       "      <td>44</td>\n",
       "      <td>1</td>\n",
       "      <td>28</td>\n",
       "      <td>0</td>\n",
       "      <td>3</td>\n",
       "      <td>1</td>\n",
       "      <td>3</td>\n",
       "      <td>26</td>\n",
       "      <td>217</td>\n",
       "      <td>1</td>\n",
       "    </tr>\n",
       "    <tr>\n",
       "      <th>2</th>\n",
       "      <td>0</td>\n",
       "      <td>76</td>\n",
       "      <td>1</td>\n",
       "      <td>3</td>\n",
       "      <td>0</td>\n",
       "      <td>2</td>\n",
       "      <td>0</td>\n",
       "      <td>2</td>\n",
       "      <td>26</td>\n",
       "      <td>183</td>\n",
       "      <td>0</td>\n",
       "    </tr>\n",
       "    <tr>\n",
       "      <th>3</th>\n",
       "      <td>0</td>\n",
       "      <td>47</td>\n",
       "      <td>1</td>\n",
       "      <td>28</td>\n",
       "      <td>0</td>\n",
       "      <td>3</td>\n",
       "      <td>1</td>\n",
       "      <td>3</td>\n",
       "      <td>26</td>\n",
       "      <td>27</td>\n",
       "      <td>1</td>\n",
       "    </tr>\n",
       "    <tr>\n",
       "      <th>4</th>\n",
       "      <td>0</td>\n",
       "      <td>21</td>\n",
       "      <td>1</td>\n",
       "      <td>11</td>\n",
       "      <td>1</td>\n",
       "      <td>1</td>\n",
       "      <td>0</td>\n",
       "      <td>1</td>\n",
       "      <td>152</td>\n",
       "      <td>203</td>\n",
       "      <td>0</td>\n",
       "    </tr>\n",
       "    <tr>\n",
       "      <th>5</th>\n",
       "      <td>1</td>\n",
       "      <td>29</td>\n",
       "      <td>1</td>\n",
       "      <td>41</td>\n",
       "      <td>1</td>\n",
       "      <td>1</td>\n",
       "      <td>0</td>\n",
       "      <td>1</td>\n",
       "      <td>152</td>\n",
       "      <td>39</td>\n",
       "      <td>0</td>\n",
       "    </tr>\n",
       "  </tbody>\n",
       "</table>\n",
       "</div>"
      ],
      "text/plain": [
       "    Gender  Age  Driving_License  Region_Code  Previously_Insured  \\\n",
       "id                                                                  \n",
       "1        0   44                1           28                   0   \n",
       "2        0   76                1            3                   0   \n",
       "3        0   47                1           28                   0   \n",
       "4        0   21                1           11                   1   \n",
       "5        1   29                1           41                   1   \n",
       "\n",
       "    Vehicle_Age  Vehicle_Damage  Annual_Premium  Policy_Sales_Channel  \\\n",
       "id                                                                      \n",
       "1             3               1               3                    26   \n",
       "2             2               0               2                    26   \n",
       "3             3               1               3                    26   \n",
       "4             1               0               1                   152   \n",
       "5             1               0               1                   152   \n",
       "\n",
       "    Vintage  Response  \n",
       "id                     \n",
       "1       217         1  \n",
       "2       183         0  \n",
       "3        27         1  \n",
       "4       203         0  \n",
       "5        39         0  "
      ]
     },
     "execution_count": 111,
     "metadata": {},
     "output_type": "execute_result"
    }
   ],
   "source": [
    "df_model.head()"
   ]
  },
  {
   "cell_type": "markdown",
   "metadata": {},
   "source": [
    "Since the Policy Sales Channel feature contains information specific to certain employees, it cannot be included in the model."
   ]
  },
  {
   "cell_type": "code",
   "execution_count": 112,
   "metadata": {},
   "outputs": [],
   "source": [
    "df_model = df_model.drop(['Policy_Sales_Channel'], axis=1)"
   ]
  },
  {
   "cell_type": "code",
   "execution_count": 113,
   "metadata": {},
   "outputs": [
    {
     "data": {
      "text/html": [
       "<div>\n",
       "<style scoped>\n",
       "    .dataframe tbody tr th:only-of-type {\n",
       "        vertical-align: middle;\n",
       "    }\n",
       "\n",
       "    .dataframe tbody tr th {\n",
       "        vertical-align: top;\n",
       "    }\n",
       "\n",
       "    .dataframe thead th {\n",
       "        text-align: right;\n",
       "    }\n",
       "</style>\n",
       "<table border=\"1\" class=\"dataframe\">\n",
       "  <thead>\n",
       "    <tr style=\"text-align: right;\">\n",
       "      <th></th>\n",
       "      <th>Gender</th>\n",
       "      <th>Age</th>\n",
       "      <th>Driving_License</th>\n",
       "      <th>Region_Code</th>\n",
       "      <th>Previously_Insured</th>\n",
       "      <th>Vehicle_Age</th>\n",
       "      <th>Vehicle_Damage</th>\n",
       "      <th>Annual_Premium</th>\n",
       "      <th>Vintage</th>\n",
       "      <th>Response</th>\n",
       "    </tr>\n",
       "    <tr>\n",
       "      <th>id</th>\n",
       "      <th></th>\n",
       "      <th></th>\n",
       "      <th></th>\n",
       "      <th></th>\n",
       "      <th></th>\n",
       "      <th></th>\n",
       "      <th></th>\n",
       "      <th></th>\n",
       "      <th></th>\n",
       "      <th></th>\n",
       "    </tr>\n",
       "  </thead>\n",
       "  <tbody>\n",
       "    <tr>\n",
       "      <th>1</th>\n",
       "      <td>0</td>\n",
       "      <td>44</td>\n",
       "      <td>1</td>\n",
       "      <td>28</td>\n",
       "      <td>0</td>\n",
       "      <td>3</td>\n",
       "      <td>1</td>\n",
       "      <td>3</td>\n",
       "      <td>217</td>\n",
       "      <td>1</td>\n",
       "    </tr>\n",
       "    <tr>\n",
       "      <th>2</th>\n",
       "      <td>0</td>\n",
       "      <td>76</td>\n",
       "      <td>1</td>\n",
       "      <td>3</td>\n",
       "      <td>0</td>\n",
       "      <td>2</td>\n",
       "      <td>0</td>\n",
       "      <td>2</td>\n",
       "      <td>183</td>\n",
       "      <td>0</td>\n",
       "    </tr>\n",
       "    <tr>\n",
       "      <th>3</th>\n",
       "      <td>0</td>\n",
       "      <td>47</td>\n",
       "      <td>1</td>\n",
       "      <td>28</td>\n",
       "      <td>0</td>\n",
       "      <td>3</td>\n",
       "      <td>1</td>\n",
       "      <td>3</td>\n",
       "      <td>27</td>\n",
       "      <td>1</td>\n",
       "    </tr>\n",
       "    <tr>\n",
       "      <th>4</th>\n",
       "      <td>0</td>\n",
       "      <td>21</td>\n",
       "      <td>1</td>\n",
       "      <td>11</td>\n",
       "      <td>1</td>\n",
       "      <td>1</td>\n",
       "      <td>0</td>\n",
       "      <td>1</td>\n",
       "      <td>203</td>\n",
       "      <td>0</td>\n",
       "    </tr>\n",
       "    <tr>\n",
       "      <th>5</th>\n",
       "      <td>1</td>\n",
       "      <td>29</td>\n",
       "      <td>1</td>\n",
       "      <td>41</td>\n",
       "      <td>1</td>\n",
       "      <td>1</td>\n",
       "      <td>0</td>\n",
       "      <td>1</td>\n",
       "      <td>39</td>\n",
       "      <td>0</td>\n",
       "    </tr>\n",
       "  </tbody>\n",
       "</table>\n",
       "</div>"
      ],
      "text/plain": [
       "    Gender  Age  Driving_License  Region_Code  Previously_Insured  \\\n",
       "id                                                                  \n",
       "1        0   44                1           28                   0   \n",
       "2        0   76                1            3                   0   \n",
       "3        0   47                1           28                   0   \n",
       "4        0   21                1           11                   1   \n",
       "5        1   29                1           41                   1   \n",
       "\n",
       "    Vehicle_Age  Vehicle_Damage  Annual_Premium  Vintage  Response  \n",
       "id                                                                  \n",
       "1             3               1               3      217         1  \n",
       "2             2               0               2      183         0  \n",
       "3             3               1               3       27         1  \n",
       "4             1               0               1      203         0  \n",
       "5             1               0               1       39         0  "
      ]
     },
     "execution_count": 113,
     "metadata": {},
     "output_type": "execute_result"
    }
   ],
   "source": [
    "df_model.head()"
   ]
  },
  {
   "cell_type": "markdown",
   "metadata": {},
   "source": [
    "### Logistic Regression Model with SMOTE Resampling"
   ]
  },
  {
   "cell_type": "markdown",
   "metadata": {},
   "source": [
    "Since our data is highly imbalanced for the target variable we are going to use the SMOTE Resampling to train the Logistic Regression Model"
   ]
  },
  {
   "cell_type": "code",
   "execution_count": 136,
   "metadata": {},
   "outputs": [],
   "source": [
    "X = df_model.drop(['Response'], axis = 1)\n",
    "y = df_model['Response']\n",
    "\n",
    "# Split your data into training and test set\n",
    "X_train, X_test, y_train, y_test = train_test_split(X, y, test_size=0.3, random_state=0, stratify=y)\n",
    "\n",
    "# Create the final train and test basetables\n",
    "train = pd.concat([X_train, y_train], axis=1)\n",
    "test = pd.concat([X_test, y_test], axis=1)"
   ]
  },
  {
   "cell_type": "code",
   "execution_count": 137,
   "metadata": {},
   "outputs": [],
   "source": [
    "#Define function to return AUC for each variable\n",
    "def auc(variables, target, basetable):\n",
    "    X = basetable[variables]\n",
    "    y = basetable[target].values.ravel()\n",
    "    # Define which resampling\n",
    "    resampling = SMOTE()\n",
    "    model = LogisticRegression()\n",
    "\n",
    "    # Define the pipeline, tell it to combine SMOTE with the Logistic Regression model\n",
    "    pipeline = Pipeline([('SMOTE', resampling), ('Logistic Regression', model)])\n",
    "    \n",
    "    # Fit the model on data\n",
    "    pipeline.fit(X, y)\n",
    "\n",
    "    predictions = pipeline.predict_proba(X)[:, 1]\n",
    "    auc = roc_auc_score(y, predictions)\n",
    "    return auc\n",
    "\n",
    "#Define function to find next best variable\n",
    "def next_best(current_variables, candidate_variables, target, basetable):\n",
    "    best_auc = -1\n",
    "    best_variable = None\n",
    "    for v in candidate_variables:\n",
    "        auc_v = auc(current_variables + [v], target, basetable)\n",
    "        if auc_v >= best_auc:\n",
    "            best_auc = auc_v\n",
    "            best_variable = v\n",
    "    return best_variable"
   ]
  },
  {
   "cell_type": "code",
   "execution_count": 138,
   "metadata": {},
   "outputs": [
    {
     "name": "stdout",
     "output_type": "stream",
     "text": [
      "Variable added in step 1 is Vehicle_Damage.\n",
      "Variable added in step 2 is Vehicle_Age.\n",
      "Variable added in step 3 is Age.\n",
      "Variable added in step 4 is Previously_Insured.\n",
      "Variable added in step 5 is Annual_Premium.\n",
      "Variable added in step 6 is Gender.\n",
      "Variable added in step 7 is Driving_License.\n",
      "Variable added in step 8 is Region_Code.\n",
      "Variable added in step 9 is Vintage.\n",
      "['Vehicle_Damage', 'Vehicle_Age', 'Age', 'Previously_Insured', 'Annual_Premium', 'Gender', 'Driving_License', 'Region_Code', 'Vintage']\n"
     ]
    }
   ],
   "source": [
    "# Define variables for df_model\n",
    "basetable = df_model\n",
    "candidate_variables = list(df_model.drop(['Response'], axis=1).columns.values)\n",
    "current_variables = []\n",
    "target = ['Response']\n",
    "number_iterations = 9\n",
    "\n",
    "# Loop through list of variables to find those with the best auc and order them\n",
    "for i in range(0, number_iterations):\n",
    "    next_variable = next_best(current_variables, candidate_variables, target, basetable)\n",
    "    current_variables = current_variables + [next_variable]\n",
    "    candidate_variables.remove(next_variable)\n",
    "    print(\"Variable added in step \" + str(i+1)  + \" is \" + next_variable + \".\")\n",
    "print(current_variables)"
   ]
  },
  {
   "cell_type": "code",
   "execution_count": 139,
   "metadata": {},
   "outputs": [],
   "source": [
    "# Define auc_train_test\n",
    "def auc_train_test(variables, target, train, test):\n",
    "    X_train = train[variables]\n",
    "    X_test = test[variables]\n",
    "    y_train = train[target].values.ravel()\n",
    "    y_test = test[target].values.ravel()\n",
    "    \n",
    "    # Define which resampling\n",
    "    resampling = SMOTE()\n",
    "    model = LogisticRegression()\n",
    "\n",
    "    # Define the pipeline, tell it to combine SMOTE with the Logistic Regression model\n",
    "    pipeline = Pipeline([('SMOTE', resampling), ('Logistic Regression', model)])\n",
    "    \n",
    "    # Fit the model on data\n",
    "    pipeline.fit(X_train, y_train)\n",
    "    \n",
    "    \n",
    "    # Calculate the predictions both on train and test data\n",
    "    predictions_train = pipeline.predict_proba(X_train)[:,1]\n",
    "    predictions_test = pipeline.predict_proba(X_test)[:,1]\n",
    "    \n",
    "    # Calculate the AUC both on train and test data\n",
    "    auc_train = roc_auc_score(y_train, predictions_train)\n",
    "    auc_test = roc_auc_score(y_test, predictions_test)\n",
    "    return(auc_train, auc_test)"
   ]
  },
  {
   "cell_type": "code",
   "execution_count": 140,
   "metadata": {},
   "outputs": [
    {
     "name": "stdout",
     "output_type": "stream",
     "text": [
      "0.81\n",
      "0.81\n"
     ]
    }
   ],
   "source": [
    "# Apply the auc_train_test function\n",
    "auc_train, auc_test = auc_train_test(current_variables, ['Response'], train, test)\n",
    "print(round(auc_train,2))\n",
    "print(round(auc_test,2))"
   ]
  },
  {
   "cell_type": "code",
   "execution_count": 141,
   "metadata": {},
   "outputs": [],
   "source": [
    "# Decide number of variables to include\n",
    "auc_values_train = []\n",
    "auc_values_test = []\n",
    "variables_evaluate = []\n",
    "\n",
    "for v in current_variables:\n",
    "    variables_evaluate.append(v)\n",
    "    auc_train, auc_test = auc_train_test(variables_evaluate, ['Response'], train, test)\n",
    "    auc_values_train.append(auc_train)\n",
    "    auc_values_test.append(auc_test)"
   ]
  },
  {
   "cell_type": "code",
   "execution_count": 142,
   "metadata": {},
   "outputs": [
    {
     "name": "stdout",
     "output_type": "stream",
     "text": [
      "Best set of variables: \n",
      "['Vehicle_Damage', 'Vehicle_Age', 'Age', 'Previously_Insured', 'Annual_Premium', 'Gender', 'Driving_License']\n"
     ]
    }
   ],
   "source": [
    "res = pd.DataFrame(dict(variables=current_variables, auc=auc_values_test))\n",
    "best_vars = list(res[:res.auc.idxmax()+1].variables.values)\n",
    "print(f'Best set of variables: \\n{best_vars}')"
   ]
  },
  {
   "cell_type": "code",
   "execution_count": 143,
   "metadata": {},
   "outputs": [
    {
     "data": {
      "text/plain": [
       "Pipeline(steps=[('SMOTE', SMOTE()),\n",
       "                ('Logistic Regression', LogisticRegression())])"
      ]
     },
     "execution_count": 143,
     "metadata": {},
     "output_type": "execute_result"
    }
   ],
   "source": [
    "# Fit the model on the best variables\n",
    "X_train_lr_1 = train[best_vars]\n",
    "y_train_lr_1 = train['Response']\n",
    "X_test_lr_1 = test[best_vars]\n",
    "y_test_lr_1 = test['Response']\n",
    "\n",
    "# Define which resampling\n",
    "resampling = SMOTE()\n",
    "model = LogisticRegression()\n",
    "\n",
    "# Define the pipeline, tell it to combine SMOTE with the Logistic Regression model\n",
    "pipeline_lr_1 = Pipeline([('SMOTE', resampling), ('Logistic Regression', model)])\n",
    "    \n",
    "# Fit the model on data\n",
    "pipeline_lr_1.fit(X_train_lr_1, y_train_lr_1)"
   ]
  },
  {
   "cell_type": "code",
   "execution_count": 144,
   "metadata": {},
   "outputs": [
    {
     "name": "stdout",
     "output_type": "stream",
     "text": [
      "ROC_AUC_Score:\n",
      " 0.8298231781897443\n",
      "Classifcation report:\n",
      "               precision    recall  f1-score   support\n",
      "\n",
      "           0       0.99      0.59      0.74    100320\n",
      "           1       0.25      0.98      0.40     14013\n",
      "\n",
      "    accuracy                           0.64    114333\n",
      "   macro avg       0.62      0.78      0.57    114333\n",
      "weighted avg       0.90      0.64      0.70    114333\n",
      "\n",
      "Confusion matrix:\n",
      " [[59485 40835]\n",
      " [  328 13685]]\n"
     ]
    },
    {
     "data": {
      "text/plain": [
       "<AxesSubplot:>"
      ]
     },
     "execution_count": 144,
     "metadata": {},
     "output_type": "execute_result"
    },
    {
     "data": {
      "image/png": "[encoded data removed]",
      "text/plain": [
       "<Figure size 432x288 with 2 Axes>"
      ]
     },
     "metadata": {
      "needs_background": "light"
     },
     "output_type": "display_data"
    }
   ],
   "source": [
    "# Predict outcomes\n",
    "predicted_pipe_lr_1 = pipeline_lr_1.predict(X_test_lr_1)\n",
    "\n",
    "# Predict probabilities\n",
    "probs_pipe_lr_1 = pipeline_lr_1.predict_proba(X_test_lr_1)\n",
    "\n",
    "# Print the ROC curve, classification report and confusion matrix\n",
    "print('ROC_AUC_Score:\\n', roc_auc_score(y_test_lr_1, probs_pipe_lr_1[:,1]))\n",
    "print('Classifcation report:\\n', classification_report(y_test_lr_1, predicted_pipe_lr_1))\n",
    "conf_mat_pipe_lr_1 = metrics.confusion_matrix(y_true=y_test_lr_1, y_pred=predicted_pipe_lr_1)\n",
    "print('Confusion matrix:\\n', conf_mat_pipe_lr_1)\n",
    "\n",
    "# Create a labeled Confusion Matrix to Compare Values\n",
    "group_names = ['True Neg','False Pos','False Neg','True Pos']\n",
    "group_counts = [\"{0:0.0f}\".format(value) for value in\n",
    "                conf_mat_pipe_lr_1.flatten()]\n",
    "group_percentages = [\"{0:.2%}\".format(value) for value in\n",
    "                     conf_mat_pipe_lr_1.flatten()/np.sum(conf_mat_pipe_lr_1)]\n",
    "labels = [f\"{v1}\\n{v2}\\n{v3}\" for v1, v2, v3 in\n",
    "          zip(group_names,group_counts,group_percentages)]\n",
    "labels = np.asarray(labels).reshape(2,2)\n",
    "sns.heatmap(conf_mat_pipe_lr_1, annot=labels, fmt='', cmap='Blues')"
   ]
  },
  {
   "cell_type": "markdown",
   "metadata": {},
   "source": [
    "## Random Forest Classification Model"
   ]
  },
  {
   "cell_type": "markdown",
   "metadata": {},
   "source": [
    "We are now going to apply a type of Decision Tree know as the Random Forest Classification Model to see if this version of machine learning can improve the outcome of our predictive model."
   ]
  },
  {
   "cell_type": "code",
   "execution_count": 145,
   "metadata": {},
   "outputs": [],
   "source": [
    "variables_rf = ['Gender', 'Age', 'Driving_License', 'Region_Code', 'Previously_Insured', 'Vehicle_Age', 'Vehicle_Damage', 'Annual_Premium', 'Vintage']\n",
    "target_rf = ['Response']\n",
    "\n",
    "X_train_rf = train[variables_rf]\n",
    "X_test_rf = test[variables_rf]\n",
    "y_train_rf = train[target_rf].values.ravel()\n",
    "y_test_rf = test[target_rf].values.ravel()"
   ]
  },
  {
   "cell_type": "markdown",
   "metadata": {},
   "source": [
    "### Random Forest without Resampling"
   ]
  },
  {
   "cell_type": "code",
   "execution_count": 146,
   "metadata": {},
   "outputs": [],
   "source": [
    "# Instantiate a random forest regressor 'rf'.\n",
    "rf = RandomForestClassifier(random_state=1)\n",
    "\n",
    "#Define the grid of hyperparameters to tune\n",
    "params_rf = {\n",
    "\t      'n_estimators': [100,200,300],\n",
    "\t      'max_depth' : [4,6,8],\n",
    "          'max_features' : ['sqrt', 'log', 'None'],\n",
    "          'criterion' : ['gini', 'entropy']\n",
    "\t    }"
   ]
  },
  {
   "cell_type": "markdown",
   "metadata": {},
   "source": [
    "### Random Forest with Resampling"
   ]
  },
  {
   "cell_type": "code",
   "execution_count": 147,
   "metadata": {},
   "outputs": [],
   "source": [
    "# Define the model as the random forest\n",
    "rf = RandomForestClassifier(class_weight='balanced_subsample', random_state=1)\n",
    "\n",
    "#Instantiate a 3-fold CV\n",
    "grid_rf = GridSearchCV(estimator=rf,\n",
    "\t\t       param_grid=params_rf,\n",
    "\t\t       scoring='roc_auc',\n",
    "\t\t       cv=3,\n",
    "\t\t       verbose=1,\n",
    "               n_jobs=-1)"
   ]
  },
  {
   "cell_type": "code",
   "execution_count": 148,
   "metadata": {},
   "outputs": [
    {
     "name": "stdout",
     "output_type": "stream",
     "text": [
      "Fitting 3 folds for each of 54 candidates, totalling 162 fits\n"
     ]
    },
    {
     "name": "stderr",
     "output_type": "stream",
     "text": [
      "[Parallel(n_jobs=-1)]: Using backend LokyBackend with 4 concurrent workers.\n",
      "[Parallel(n_jobs=-1)]: Done  42 tasks      | elapsed:  5.5min\n",
      "[Parallel(n_jobs=-1)]: Done 162 out of 162 | elapsed: 20.1min finished\n"
     ]
    },
    {
     "data": {
      "text/plain": [
       "GridSearchCV(cv=3,\n",
       "             estimator=RandomForestClassifier(class_weight='balanced_subsample',\n",
       "                                              random_state=1),\n",
       "             n_jobs=-1,\n",
       "             param_grid={'criterion': ['gini', 'entropy'],\n",
       "                         'max_depth': [4, 6, 8],\n",
       "                         'max_features': ['sqrt', 'log', 'None'],\n",
       "                         'n_estimators': [100, 200, 300]},\n",
       "             scoring='roc_auc', verbose=1)"
      ]
     },
     "execution_count": 148,
     "metadata": {},
     "output_type": "execute_result"
    }
   ],
   "source": [
    "# Fit the model to our training set\n",
    "grid_rf.fit(X_train_rf, y_train_rf)"
   ]
  },
  {
   "cell_type": "code",
   "execution_count": 149,
   "metadata": {},
   "outputs": [
    {
     "name": "stdout",
     "output_type": "stream",
     "text": [
      "{'criterion': 'gini', 'max_depth': 8, 'max_features': 'sqrt', 'n_estimators': 200}\n",
      "ROC_AUC_Score:\n",
      " 0.847158010729044\n",
      "Classifcation report:\n",
      "               precision    recall  f1-score   support\n",
      "\n",
      "           0       0.99      0.66      0.79    100320\n",
      "           1       0.28      0.93      0.43     14013\n",
      "\n",
      "    accuracy                           0.69    114333\n",
      "   macro avg       0.63      0.80      0.61    114333\n",
      "weighted avg       0.90      0.69      0.74    114333\n",
      "\n",
      "Confusion matrix:\n",
      " [[65970 34350]\n",
      " [  922 13091]]\n"
     ]
    },
    {
     "data": {
      "text/plain": [
       "<AxesSubplot:>"
      ]
     },
     "execution_count": 149,
     "metadata": {},
     "output_type": "execute_result"
    },
    {
     "data": {
      "image/png": "[encoded data removed]",
      "text/plain": [
       "<Figure size 432x288 with 2 Axes>"
      ]
     },
     "metadata": {
      "needs_background": "light"
     },
     "output_type": "display_data"
    }
   ],
   "source": [
    "#Extract best hyperparameters from 'grid_rf'\n",
    "best_hyperparams_rf = grid_rf.best_params_\n",
    "print(best_hyperparams_rf)\n",
    "\n",
    "#Extract best model from 'grid_rf'\n",
    "best_model_rf = grid_rf.best_estimator_\n",
    "\n",
    "#Predict the test set labels\n",
    "pred_rf = best_model_rf.predict(X_test_rf)\n",
    "\n",
    "# Predict probabilities\n",
    "probs_rf = best_model_rf.predict_proba(X_test_rf)\n",
    "\n",
    "# Print the ROC curve, classification report and confusion matrix\n",
    "print('ROC_AUC_Score:\\n', roc_auc_score(y_test_rf, probs_rf[:,1]))\n",
    "print('Classifcation report:\\n', classification_report(y_test_rf, pred_rf))\n",
    "conf_mat_rf = metrics.confusion_matrix(y_true=y_test_rf, y_pred=pred_rf)\n",
    "print('Confusion matrix:\\n', conf_mat_rf)\n",
    "\n",
    "# Create a labeled Confusion Matrix to Compare Values\n",
    "group_names = ['True Neg','False Pos','False Neg','True Pos']\n",
    "group_counts = [\"{0:0.0f}\".format(value) for value in\n",
    "                conf_mat_rf.flatten()]\n",
    "group_percentages = [\"{0:.2%}\".format(value) for value in\n",
    "                     conf_mat_rf.flatten()/np.sum(conf_mat_rf)]\n",
    "labels = [f\"{v1}\\n{v2}\\n{v3}\" for v1, v2, v3 in\n",
    "          zip(group_names,group_counts,group_percentages)]\n",
    "labels = np.asarray(labels).reshape(2,2)\n",
    "sns.heatmap(conf_mat_rf, annot=labels, fmt='', cmap='Blues')"
   ]
  },
  {
   "cell_type": "markdown",
   "metadata": {},
   "source": [
    "In comparing the 2 models overall the Random Forest Model does a slightly better job at predicting classes with an AUC_ROC of 0.8472. However, our goal is to increase the number of successful cross-sells and our Logistic Regression model does 0.5% better at predicting 'Yes' responses correctly and has a lower number of Type ll errors then the Random Forest model.  "
   ]
  },
  {
   "cell_type": "markdown",
   "metadata": {},
   "source": [
    "# Insights"
   ]
  },
  {
   "cell_type": "markdown",
   "metadata": {},
   "source": [
    "Through our exploration of the dataset and use of machine learnng we were able to propose an effective model to highlight the most important features in predicting the possibility of a cross-sell and improve the opertional costs of cross-selling to customers."
   ]
  },
  {
   "cell_type": "markdown",
   "metadata": {},
   "source": [
    "### Feature Importance"
   ]
  },
  {
   "cell_type": "markdown",
   "metadata": {},
   "source": [
    "Based on AUC the Logistic Regression model was able to identify several important features from our dataset. \n",
    "\n",
    "The set of best features is Vehicle_Damage, Vehicle_Age, Age, Previously_Insured, Annual_Premium, Gender, and Driving Liscene. You will notice that Region_Code and Vintage are not included in this set, which make sense since based on our exploratory data analysis from earlier.\n",
    "\n",
    "Below is a graph of the AUC for the Logistic Regression model and the best variables listed in order of importance. "
   ]
  },
  {
   "cell_type": "code",
   "execution_count": 170,
   "metadata": {},
   "outputs": [
    {
     "data": {
      "image/png": "[encoded data removed]",
      "text/plain": [
       "<Figure size 720x576 with 1 Axes>"
      ]
     },
     "metadata": {
      "needs_background": "light"
     },
     "output_type": "display_data"
    }
   ],
   "source": [
    "# Graph the AUC curves and find the best set of variables\n",
    "res = pd.DataFrame(dict(variables=current_variables, auc=auc_values_test))\n",
    "plt.figure(figsize=(10,8))\n",
    "x = np.array(range(0,len(auc_values_train)))\n",
    "y_train = np.array(auc_values_train)\n",
    "y_test = np.array(auc_values_test)\n",
    "plt.xticks(x, current_variables, rotation = 90)\n",
    "plt.plot(x,y_train, label='Train')\n",
    "plt.plot(x,y_test, label='Test')\n",
    "plt.axvline(res.auc.idxmax(), linestyle='dashed', color='r', lw=1.5)\n",
    "plt.title(f'Best AUC = {round(res.auc.max(),3)}')\n",
    "plt.legend()\n",
    "plt.show()"
   ]
  },
  {
   "cell_type": "markdown",
   "metadata": {},
   "source": [
    "### Cumulative Gains and Lift Curves"
   ]
  },
  {
   "cell_type": "markdown",
   "metadata": {},
   "source": [
    "Our Logistic Regression Model will be a useful tool to the marketing team as they seek to more effectively cross-sell Vehicle Insurance policies. This is demonstarted by the Cumulative Gains and Lift Curves described below. "
   ]
  },
  {
   "cell_type": "markdown",
   "metadata": {},
   "source": [
    "#### Cumulative Gains Curve"
   ]
  },
  {
   "cell_type": "code",
   "execution_count": 169,
   "metadata": {
    "scrolled": true
   },
   "outputs": [
    {
     "data": {
      "text/plain": [
       "<AxesSubplot:title={'center':'Cumulative Gains Curve'}, xlabel='Percentage of sample', ylabel='Gain'>"
      ]
     },
     "execution_count": 169,
     "metadata": {},
     "output_type": "execute_result"
    },
    {
     "data": {
      "image/png": "[encoded data removed]",
      "text/plain": [
       "<Figure size 720x576 with 1 Axes>"
      ]
     },
     "metadata": {
      "needs_background": "light"
     },
     "output_type": "display_data"
    }
   ],
   "source": [
    "#Plot the cumulative gains graph\n",
    "skplt.metrics.plot_cumulative_gain(y_test_lr_1, probs_pipe_lr_1, figsize=(10,8))"
   ]
  },
  {
   "cell_type": "code",
   "execution_count": 166,
   "metadata": {},
   "outputs": [
    {
     "name": "stdout",
     "output_type": "stream",
     "text": [
      "Total Number of Responses : 114333\n",
      "Total Number of Yes Responses : 14013\n"
     ]
    }
   ],
   "source": [
    "# Number of rows in the test set\n",
    "print('Total Number of Responses : ' + str(test.Response.count()))\n",
    "\n",
    "# Sum of response variable in the test basetable\n",
    "print('Total Number of Yes Responses : ' + str(test.Response.sum()))"
   ]
  },
  {
   "cell_type": "markdown",
   "metadata": {},
   "source": [
    "By ranking customers by the probability that they will say 'Yes' to signing up for Vehicle Insurance using the Logistic Regerssion model developed earlier the Insurance company will be able to reduce operational costs by reaching out only to those customers who are interested. \n",
    "\n",
    "As an example, by using the Logistic Regression model to reach out to 20% of 114,333 customers, then about 50% of those interested in puchasing vehicle insurance will be included in that set. \n",
    "\n",
    "20% of our original model would mean reaching out to about 22,866 customers. The model will rank these customers by most likely to be interested in purchasing car insurance allowing the team to reach about 7,006 of the 14,013 customers in this total population that would be interested."
   ]
  },
  {
   "cell_type": "markdown",
   "metadata": {},
   "source": [
    "#### Lift Curve"
   ]
  },
  {
   "cell_type": "code",
   "execution_count": 167,
   "metadata": {},
   "outputs": [
    {
     "data": {
      "text/plain": [
       "<AxesSubplot:title={'center':'Lift Curve'}, xlabel='Percentage of sample', ylabel='Lift'>"
      ]
     },
     "execution_count": 167,
     "metadata": {},
     "output_type": "execute_result"
    },
    {
     "data": {
      "image/png": "[encoded data removed]",
      "text/plain": [
       "<Figure size 720x576 with 1 Axes>"
      ]
     },
     "metadata": {
      "needs_background": "light"
     },
     "output_type": "display_data"
    }
   ],
   "source": [
    "skplt.metrics.plot_lift_curve(y_test_lr_1, probs_pipe_lr_1, figsize=(10,8))"
   ]
  },
  {
   "cell_type": "markdown",
   "metadata": {},
   "source": [
    "This Lift Curve highlights the advantages of using a model when compared to random chance by showing how much better the model performs. Using the example of the 20%  from earlier this Lift Curve graph shows that the model performs about 2.5 times better then random chance for the top 20% of the customers."
   ]
  },
  {
   "cell_type": "markdown",
   "metadata": {},
   "source": [
    "### Further Opportunities"
   ]
  },
  {
   "cell_type": "markdown",
   "metadata": {},
   "source": [
    "While we were able to create a successful model and provide there were several opportunities for further research discovered during the exploratory phase of this project. \n",
    "\n",
    "- The lack of influnece the Vintage variable has on customer interest in a cross-sell could indicate that there is low customer loyalty among the Insurance companies current customers. It may benefit the company to see if this is the case and look into way to cultivate more loyalty from their customers to encourage cross-sells.\n",
    "\n",
    "- Conduct market reaserach to discover why those who are previously insured by another company are less interested in this company's Vehicle Insurance and to find out why those who do not have damage to their vehicles are less interested in this companies insurance policies. For example, what are the competators offering that this company is not?\n",
    "\n",
    "- Addtional information about the Region Code and Policy Sales Channel could further improve the insights gained from these variables and could even help create a stronger model.\n",
    "\n",
    "- A time series feature added to the dataset detail when these customers were contacted could provide further insight into the seasonality of selling vehicle insurance. As an example, this information could be helping as marketing and sales teams are planngin their next campaign. "
   ]
  }
 ],
 "metadata": {
  "kernelspec": {
   "display_name": "Python 3",
   "language": "python",
   "name": "python3"
  }
 },
 "nbformat": 4,
 "nbformat_minor": 4
}
